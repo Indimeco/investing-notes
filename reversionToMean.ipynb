{
 "cells": [
  {
   "cell_type": "code",
   "execution_count": null,
   "metadata": {},
   "outputs": [],
   "source": [
    "import json\n",
    "import os.path\n",
    "import yfinance as yf\n",
    "import pandas as pd\n",
    "import numpy as np\n",
    "import datetime\n",
    "import functools\n",
    "import matplotlib.pyplot as plt\n",
    "from config import Portfolio\n",
    "from downloadEquities import downloadEquities\n",
    "from parsePortfolio import parsePortfolio"
   ]
  },
  {
   "cell_type": "code",
   "execution_count": null,
   "metadata": {},
   "outputs": [],
   "source": [
    "# Config\n",
    "\n",
    "useDataOverYears = 5 # 1y,2y,5y,10y\n",
    "endDate = datetime.date.today() # only influences parsing atm, not collection\n",
    "portfolioFile = 'portfolio.json'"
   ]
  },
  {
   "cell_type": "code",
   "execution_count": null,
   "metadata": {},
   "outputs": [],
   "source": [
    "# Load and Initialise Portfolio\n",
    "def loadPortfolio() -> Portfolio:\n",
    "    sample = 'portfolioSample.json'\n",
    "    useSample = False\n",
    "    if not os.path.isfile(portfolioFile):\n",
    "        print(\"Using sample data.\\nPlease create a portfolio.json to use custom input.\")\n",
    "        useSample = True\n",
    "    with open(sample if useSample else portfolioFile, 'r') as infile:\n",
    "        return json.load(infile)\n",
    "\n",
    "portfolio = loadPortfolio()\n",
    "portfolioEquities = portfolio[\"equities\"]\n",
    "portfolioOther = portfolio[\"other\"]"
   ]
  },
  {
   "cell_type": "code",
   "execution_count": null,
   "metadata": {
    "tags": []
   },
   "outputs": [],
   "source": [
    "# Download equities\n",
    "    \n",
    "downloadEquities(portfolioEquities, useDataOverYears)"
   ]
  },
  {
   "cell_type": "code",
   "execution_count": null,
   "metadata": {
    "tags": []
   },
   "outputs": [],
   "source": [
    "# Parse portfolio data\n",
    "\n",
    "portfolioDf = parsePortfolio(portfolio=portfolio, useDataOverYears=useDataOverYears, endDate=endDate)\n",
    "portfolioDf.sort_values(by=['name'], inplace=True)\n",
    "portfolioLabels = portfolioDf['name'].sort_values(ascending=True)\n",
    "portfolioWeights = portfolioDf['weight']\n",
    "portfolioChanges = portfolioDf['changePerAnnum'] * 100\n",
    "portfolioWeightedChanges = portfolioDf['weightedReturnPerAnnum'] * 100\n",
    "portfolioShares = portfolioDf['sharePriceChangePerAnnum'] * 100\n",
    "portfolioDividends = portfolioDf['estimatedDividendBonusToChange'] * 100\n",
    "totalExpectedReturn = portfolioWeightedChanges.sum()\n",
    "\n",
    "display(portfolioDf)\n",
    "\n",
    "\n",
    "# Portfolio Unweighted Performance\n",
    "fig = plt.figure(figsize=(10,5))\n",
    "plt.bar(\n",
    "    portfolioLabels,\n",
    "    portfolioShares,\n",
    ")\n",
    "plt.bar(\n",
    "    portfolioLabels,\n",
    "    portfolioDividends,\n",
    "    bottom=portfolioShares\n",
    ")\n",
    "plt.title(\"Unweighted Change Per Annum\", pad=15)\n",
    "plt.ylabel('Percentage')\n",
    "plt.legend(['Share price', 'Dividends'])\n",
    "plt.xticks(portfolioLabels)\n",
    "\n",
    "plt.show()\n"
   ]
  },
  {
   "cell_type": "code",
   "execution_count": null,
   "metadata": {
    "tags": []
   },
   "outputs": [],
   "source": [
    "def makePortfolioPie(values, title):\n",
    "    cmap = plt.get_cmap(\"Set3\")\n",
    "    colorSet = cmap(np.arange(len(portfolioDf)))\n",
    "    fig = plt.figure(figsize=(6,6))\n",
    "\n",
    "    plt.pie(\n",
    "        values, \n",
    "        labels=portfolioLabels, \n",
    "        colors=colorSet,\n",
    "        autopct='%1.1f%%', \n",
    "        shadow=True, \n",
    "        startangle=130\n",
    "    )\n",
    "    plt.axis('equal')\n",
    "    plt.title(title, pad=15)\n",
    "    plt.tight_layout()\n",
    "    centre_circle = plt.Circle((0,0),0.70,fc='white')\n",
    "    fig = plt.gcf()\n",
    "    fig.gca().add_artist(centre_circle)\n",
    "\n",
    "    plt.show()\n",
    "\n",
    "makePortfolioPie(\n",
    "    values=portfolioWeights, \n",
    "    title=\"Portfolio Composition\"\n",
    ")\n",
    "\n",
    "makePortfolioPie(\n",
    "    values=portfolioWeightedChanges / totalExpectedReturn, \n",
    "    title=\"Investment Return by Portfolio Composition\"\n",
    ")\n"
   ]
  },
  {
   "cell_type": "code",
   "execution_count": null,
   "metadata": {},
   "outputs": [],
   "source": []
  }
 ],
 "metadata": {
  "kernelspec": {
   "display_name": "Python 3",
   "language": "python",
   "name": "python3"
  },
  "language_info": {
   "codemirror_mode": {
    "name": "ipython",
    "version": 3
   },
   "file_extension": ".py",
   "mimetype": "text/x-python",
   "name": "python",
   "nbconvert_exporter": "python",
   "pygments_lexer": "ipython3",
   "version": "3.6.9-final"
  }
 },
 "nbformat": 4,
 "nbformat_minor": 4
}