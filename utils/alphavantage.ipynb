{
 "cells": [
  {
   "cell_type": "code",
   "execution_count": 5,
   "metadata": {},
   "outputs": [
    {
     "name": "stdout",
     "output_type": "stream",
     "text": [
      "VWDLI5N0UH176O44\n"
     ]
    }
   ],
   "source": [
    "# AlphaVantage API didn't have a great selection,\n",
    "# but I had already written helpers for it before\n",
    "# I relaized this. It might be helpful to create an\n",
    "# interoperable interface to use this API later\n",
    "# depending on data availability \n",
    "\n",
    "import requests\n",
    "import json\n",
    "from dotenv import load_dotenv\n",
    "import os\n",
    "\n",
    "load_dotenv()\n",
    "API_KEY = os.getenv(\"ALPHA_VANTAGE_API_KEY\")\n",
    "if not API_KEY:\n",
    "    raise Exception(\"Alpha vantage requires env API key as ALPHA_VANTAGE_API_KEY\")\n",
    "\n",
    "# Browse the API for valid stocks\n",
    "def queryAlphaVantageStock(ticker):\n",
    "    stockApiUrl = \"https://www.alphavantage.co/query\"\n",
    "    querystring = {\"function\":\"SYMBOL_SEARCH\", \"keywords\":ticker, \"apikey\":API_KEY}\n",
    "\n",
    "    response = requests.request(\"GET\", stockApiUrl, params=querystring)\n",
    "    if response.status_code != 200:\n",
    "        raise Exception(f'Expected response to be 200, received {response}')\n",
    "\n",
    "    bm = response.json()['bestMatches']\n",
    "    if not bm:\n",
    "        print('No best match')\n",
    "        print(response.json())\n",
    "    for i in bm:\n",
    "        print(i['1. symbol'])\n",
    "        print(i)\n",
    "\n",
    "# write valid stock to json\n",
    "def getAVJson(ticker):\n",
    "    url = \"https://www.alphavantage.co/query\"\n",
    "    querystring = {\"function\":\"TIME_SERIES_MONTHLY_ADJUSTED\", \"symbol\":ticker, \"apikey\":API_KEY}\n",
    "\n",
    "    response = requests.request(\"GET\", url, params=querystring)\n",
    "    if response.status_code != 200:\n",
    "        raise Exception(f'Expected response to be 200, received {response}')\n",
    "\n",
    "    return response.json()\n",
    "\n",
    "# parse stock json into df\n",
    "def cleanAVFromJson(filename):\n",
    "    with open(filename, \"r\") as infile:\n",
    "        j = json.load(infile)\n",
    "\n",
    "    df = pd.DataFrame(j[\"Monthly Adjusted Time Series\"]).T\n",
    "    df.columns = [\"open\", \"high\", \"low\", \"close\", \"adjusted_close\", \"volume\",\"dividend_amount\"]\n",
    "    df = df.astype({\n",
    "        \"open\": np.float32, \n",
    "        \"high\": np.float32, \n",
    "        \"low\": np.float32,\n",
    "        \"close\": np.float32,\n",
    "        \"adjusted_close\": np.float32,\n",
    "        \"volume\": np.int32,\n",
    "        \"dividend_amount\": np.float32\n",
    "    })\n",
    "    \n",
    "    return df\n"
   ]
  }
 ],
 "metadata": {
  "kernelspec": {
   "display_name": "Python 3",
   "language": "python",
   "name": "python3"
  },
  "language_info": {
   "codemirror_mode": {
    "name": "ipython",
    "version": 3
   },
   "file_extension": ".py",
   "mimetype": "text/x-python",
   "name": "python",
   "nbconvert_exporter": "python",
   "pygments_lexer": "ipython3",
   "version": "3.6.9"
  }
 },
 "nbformat": 4,
 "nbformat_minor": 4
}
