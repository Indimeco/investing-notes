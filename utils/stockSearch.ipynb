{
 "cells": [
  {
   "cell_type": "code",
   "execution_count": 14,
   "metadata": {
    "collapsed": true,
    "jupyter": {
     "outputs_hidden": true
    }
   },
   "outputs": [
    {
     "name": "stdout",
     "output_type": "stream",
     "text": [
      "{'previousClose': 26.05, 'regularMarketOpen': 26.42, 'twoHundredDayAverage': 23.68, 'trailingAnnualDividendYield': None, 'payoutRatio': None, 'volume24Hr': None, 'regularMarketDayHigh': 26.5, 'navPrice': 25.33, 'averageDailyVolume10Day': 127326, 'totalAssets': 889319616, 'regularMarketPreviousClose': 26.05, 'fiftyDayAverage': 25.363636, 'trailingAnnualDividendRate': None, 'open': 26.42, 'toCurrency': None, 'averageVolume10days': 127326, 'expireDate': None, 'yield': 0.0194, 'algorithm': None, 'dividendRate': None, 'exDividendDate': None, 'beta': None, 'circulatingSupply': None, 'startDate': None, 'regularMarketDayLow': 26.41, 'priceHint': 2, 'currency': 'AUD', 'regularMarketVolume': 134315, 'lastMarket': None, 'maxSupply': None, 'openInterest': None, 'marketCap': None, 'volumeAllCurrencies': None, 'strikePrice': None, 'averageVolume': 154487, 'priceToSalesTrailing12Months': None, 'dayLow': 26.41, 'ask': 26.45, 'ytdReturn': None, 'askSize': 0, 'volume': 134315, 'fiftyTwoWeekHigh': 26.5, 'forwardPE': None, 'maxAge': 1, 'fromCurrency': None, 'fiveYearAvgDividendYield': None, 'fiftyTwoWeekLow': 18.67, 'bid': 26.46, 'tradeable': False, 'dividendYield': None, 'bidSize': 0, 'dayHigh': 26.5, 'exchange': 'ASX', 'shortName': 'BETANASDAQ ETF UNITS', 'longName': 'BetaShares NASDAQ 100 ETF', 'exchangeTimezoneName': 'Australia/Sydney', 'exchangeTimezoneShortName': 'AEST', 'isEsgPopulated': False, 'gmtOffSetMilliseconds': '36000000', 'quoteType': 'ETF', 'symbol': 'NDQ.AX', 'messageBoardId': 'finmb_301179652', 'market': 'au_market', 'annualHoldingsTurnover': None, 'enterpriseToRevenue': None, 'beta3Year': 1.04, 'profitMargins': None, 'enterpriseToEbitda': None, '52WeekChange': None, 'morningStarRiskRating': None, 'forwardEps': None, 'revenueQuarterlyGrowth': None, 'fundInceptionDate': 1432598400, 'annualReportExpenseRatio': None, 'bookValue': None, 'fundFamily': 'BetaShares Capital Ltd', 'lastFiscalYearEnd': None, 'netIncomeToCommon': None, 'trailingEps': None, 'lastDividendValue': None, 'SandP52WeekChange': None, 'priceToBook': None, 'nextFiscalYearEnd': None, 'mostRecentQuarter': None, 'enterpriseValue': None, 'threeYearAverageReturn': 0.2662, 'lastSplitDate': None, 'lastSplitFactor': None, 'legalType': 'Exchange Traded Fund', 'morningStarOverallRating': None, 'earningsQuarterlyGrowth': None, 'pegRatio': None, 'lastCapGain': None, 'category': None, 'fiveYearAverageReturn': 0.21149999, 'longBusinessSummary': 'The index includes securities of 100 of the largest U.S. and international non-financial companies listed on the NASDAQ Stock Market,based on market capitalisation.', 'companyOfficers': [], 'regularMarketPrice': 26.42, 'logo_url': ''}\n"
     ]
    }
   ],
   "source": [
    "import yfinance as yf\n",
    "\n",
    "# Browse the API for valid stocks\n",
    "searchFor = (\"NDQ.AX\")\n",
    "        \n",
    "def queryForYFinanceStock(ticker: str) -> None:\n",
    "    i = yf.Ticker(ticker).info\n",
    "    print(i)\n",
    "\n",
    "queryForYFinanceStock(searchFor)"
   ]
  },
  {
   "cell_type": "code",
   "execution_count": null,
   "metadata": {},
   "outputs": [],
   "source": []
  }
 ],
 "metadata": {
  "kernelspec": {
   "display_name": "Python 3",
   "language": "python",
   "name": "python3"
  },
  "language_info": {
   "codemirror_mode": {
    "name": "ipython",
    "version": 3
   },
   "file_extension": ".py",
   "mimetype": "text/x-python",
   "name": "python",
   "nbconvert_exporter": "python",
   "pygments_lexer": "ipython3",
   "version": "3.6.9"
  }
 },
 "nbformat": 4,
 "nbformat_minor": 4
}
